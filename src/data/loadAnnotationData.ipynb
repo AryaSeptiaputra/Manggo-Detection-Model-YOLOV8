{
 "cells": [
  {
   "cell_type": "code",
   "execution_count": null,
   "id": "430d2997",
   "metadata": {},
   "outputs": [],
   "source": [
    "import json\n",
    "with open(\"config.json\") as f:\n",
    "    config = json.load(f)\n",
    "api_key = config[\"ROBOFLOW_API_KEY\"]"
   ]
  },
  {
   "cell_type": "markdown",
   "id": "98be21bf",
   "metadata": {},
   "source": [
    "# Load Annotated Data for Auto Label Model"
   ]
  },
  {
   "cell_type": "code",
   "execution_count": null,
   "id": "05248694",
   "metadata": {},
   "outputs": [
    {
     "name": "stdout",
     "output_type": "stream",
     "text": [
      "loading Roboflow workspace...\n",
      "loading Roboflow project...\n"
     ]
    },
    {
     "name": "stderr",
     "output_type": "stream",
     "text": [
      "Downloading Dataset Version Zip in Manggo-Detection-1 to yolov8:: 100%|██████████| 41062/41062 [06:25<00:00, 106.50it/s]"
     ]
    },
    {
     "name": "stdout",
     "output_type": "stream",
     "text": [
      "\n"
     ]
    },
    {
     "name": "stderr",
     "output_type": "stream",
     "text": [
      "\n",
      "Extracting Dataset Version Zip to Manggo-Detection-1 in yolov8:: 100%|██████████| 1584/1584 [00:00<00:00, 2356.35it/s]\n"
     ]
    },
    {
     "name": "stdout",
     "output_type": "stream",
     "text": [
      "data successfully loaded from roboflow\n"
     ]
    }
   ],
   "source": [
    "from roboflow import Roboflow\n",
    "import os\n",
    "\n",
    "# Initialize Roboflow with API key\n",
    "rf = Roboflow(api_key=\"cLmVj3a2XbuWmtH8WRzG\")\n",
    "\n",
    "# Access the specified project in the workspace\n",
    "project = rf.workspace(\"arya-septiaputra\").project(\"manggo-detection-8avdr\")\n",
    "\n",
    "# Select version 1 of the project\n",
    "version = project.version(1)\n",
    "\n",
    "# Define the path \n",
    "save_path = \"./data/interim\"\n",
    "\n",
    "# Create the directory\n",
    "os.makedirs(save_path, exist_ok=True)\n",
    "\n",
    "# Download the dataset in YOLOv8 format\n",
    "dataset = version.download(\"yolov8\")\n",
    "\n",
    "# Save the downloaded dataset to the specified directory\n",
    "dataset.save_to_disk(save_path)"
   ]
  },
  {
   "cell_type": "markdown",
   "id": "d22372d9",
   "metadata": {},
   "source": [
    "# Load Unannotated Data"
   ]
  },
  {
   "cell_type": "code",
   "execution_count": null,
   "id": "2d4f3ae5",
   "metadata": {},
   "outputs": [
    {
     "name": "stdout",
     "output_type": "stream",
     "text": [
      "loading Roboflow workspace...\n",
      "loading Roboflow project...\n"
     ]
    },
    {
     "name": "stderr",
     "output_type": "stream",
     "text": [
      "Downloading Dataset Version Zip in Manggo-Detection-2 to yolov8:: 100%|██████████| 127280/127280 [17:37<00:00, 120.32it/s]"
     ]
    },
    {
     "name": "stdout",
     "output_type": "stream",
     "text": [
      "\n"
     ]
    },
    {
     "name": "stderr",
     "output_type": "stream",
     "text": [
      "\n",
      "Extracting Dataset Version Zip to Manggo-Detection-2 in yolov8:: 100%|██████████| 4402/4402 [00:01<00:00, 2378.11it/s]\n"
     ]
    }
   ],
   "source": [
    "from roboflow import Roboflow\n",
    "\n",
    "# Initialize Roboflow with API key\n",
    "rf = Roboflow(api_key=\"cLmVj3a2XbuWmtH8WRzG\")\n",
    "\n",
    "# Access the specified project in the workspace\n",
    "project = rf.workspace(\"arya-septiaputra\").project(\"manggo-detection-8avdr\")\n",
    "\n",
    "# Select version 2 of the project\n",
    "version = project.version(2)\n",
    "\n",
    "# Define the path \n",
    "save_path = \"./data/interim\"\n",
    "\n",
    "# Create the directory\n",
    "os.makedirs(save_path, exist_ok=True)\n",
    "\n",
    "# Download the dataset in YOLOv8 format\n",
    "dataset = version.download(\"yolov8\")\n",
    "\n",
    "# Save the downloaded dataset to the specified directory\n",
    "dataset.save_to_disk(save_path)"
   ]
  },
  {
   "cell_type": "code",
   "execution_count": null,
   "id": "66537af8",
   "metadata": {},
   "outputs": [
    {
     "name": "stdout",
     "output_type": "stream",
     "text": [
      "loading Roboflow workspace...\n",
      "loading Roboflow project...\n"
     ]
    },
    {
     "name": "stderr",
     "output_type": "stream",
     "text": [
      "Downloading Dataset Version Zip in Manggo-Detection-4 to yolov8:: 100%|██████████| 345332/345332 [50:36<00:00, 113.73it/s] "
     ]
    },
    {
     "name": "stdout",
     "output_type": "stream",
     "text": [
      "\n"
     ]
    },
    {
     "name": "stderr",
     "output_type": "stream",
     "text": [
      "\n",
      "Extracting Dataset Version Zip to Manggo-Detection-4 in yolov8:: 100%|██████████| 11998/11998 [00:08<00:00, 1445.91it/s]\n"
     ]
    }
   ],
   "source": [
    "from roboflow import Roboflow\n",
    "\n",
    "# Initialize Roboflow with API key\n",
    "rf = Roboflow(api_key=\"cLmVj3a2XbuWmtH8WRzG\")\n",
    "\n",
    "# Access the specified project in the workspace\n",
    "project = rf.workspace(\"arya-septiaputra\").project(\"manggo-detection-8avdr\")\n",
    "\n",
    "# Select version 4 of the project\n",
    "version = project.version(4)\n",
    "\n",
    "# Define the path \n",
    "save_path = \"./data/interim\"\n",
    "\n",
    "# Create the directory\n",
    "os.makedirs(save_path, exist_ok=True)\n",
    "\n",
    "# Download the dataset in YOLOv8 format\n",
    "dataset = version.download(\"yolov8\")\n",
    "\n",
    "# Save the downloaded dataset to the specified directory\n",
    "dataset.save_to_disk(save_path)"
   ]
  }
 ],
 "metadata": {
  "kernelspec": {
   "display_name": ".venv",
   "language": "python",
   "name": "python3"
  },
  "language_info": {
   "codemirror_mode": {
    "name": "ipython",
    "version": 3
   },
   "file_extension": ".py",
   "mimetype": "text/x-python",
   "name": "python",
   "nbconvert_exporter": "python",
   "pygments_lexer": "ipython3",
   "version": "3.10.6"
  }
 },
 "nbformat": 4,
 "nbformat_minor": 5
}
